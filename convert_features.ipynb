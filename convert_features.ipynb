{
 "cells": [
  {
   "cell_type": "code",
   "execution_count": 1,
   "metadata": {},
   "outputs": [],
   "source": [
    "import json\n",
    "path='./task1_de-en_training-dev_corrected_version/'\n",
    "f_X = open(path+\"train.output.json\", encoding='utf-8')\n",
    "data = f_X.readlines()\n",
    "f_y = open(path+\"train.hter\",'r')\n",
    "scores = f_y.readlines()"
   ]
  },
  {
   "cell_type": "code",
   "execution_count": 2,
   "metadata": {},
   "outputs": [],
   "source": [
    "# 若为训练集，在训练前需要先将数据随机打散,（X和y需同时打乱）\n",
    "import random\n",
    "randnum = random.randint(0,100)\n",
    "random.seed(randnum)\n",
    "random.shuffle(data)\n",
    "random.seed(randnum)\n",
    "random.shuffle(scores)\n",
    "fout_X = open(path+'train.features','w')\n",
    "fout_y = open(path+'train.hter.shuffle','w')\n",
    "for line_X,line_y in zip(data,scores):\n",
    "    features = json.loads(line_X)['features']\n",
    "    context_embeddings = []\n",
    "    for feature in features[1:]:\n",
    "        context_embeddings.append(' '.join(map(str,feature['layers'][0]['values'])))\n",
    "    fout_X.write('\\t'.join(context_embeddings)+'\\n')\n",
    "    fout_y.write(line_y)\n",
    "fout_X.close()\n",
    "fout_y.close()"
   ]
  }
 ],
 "metadata": {
  "kernelspec": {
   "display_name": "Python 3",
   "language": "python",
   "name": "python3"
  },
  "language_info": {
   "codemirror_mode": {
    "name": "ipython",
    "version": 3
   },
   "file_extension": ".py",
   "mimetype": "text/x-python",
   "name": "python",
   "nbconvert_exporter": "python",
   "pygments_lexer": "ipython3",
   "version": "3.6.8"
  }
 },
 "nbformat": 4,
 "nbformat_minor": 2
}
