{
 "cells": [
  {
   "cell_type": "code",
   "execution_count": 1,
   "metadata": {},
   "outputs": [
    {
     "name": "stderr",
     "output_type": "stream",
     "text": [
      "Using TensorFlow backend.\n"
     ]
    }
   ],
   "source": [
    "import os\n",
    "import json\n",
    "import math\n",
    "import pickle\n",
    "from keras.layers import *\n",
    "from keras.models import Model\n",
    "from scipy.stats import pearsonr,spearmanr\n",
    "from sklearn.metrics import mean_absolute_error,mean_squared_error"
   ]
  },
  {
   "cell_type": "code",
   "execution_count": 2,
   "metadata": {},
   "outputs": [],
   "source": [
    "# 参数设置\n",
    "batch_size = 128\n",
    "num_train = 23000\n",
    "os.environ[\"CUDA_VISIBLE_DEVICES\"] = \"1\""
   ]
  },
  {
   "cell_type": "code",
   "execution_count": 3,
   "metadata": {},
   "outputs": [],
   "source": [
    "def padding(x):\n",
    "    # padding至batch内的最大长度\n",
    "    ml = max([len(i) for i in x])\n",
    "    return [i + list(np.zeros(((ml-len(i)),768))) for i in x]\n",
    "def process_line(line_X,line_y):\n",
    "    feature = []\n",
    "    line_X = line_X.strip().split('\\t')\n",
    "    for l in line_X:\n",
    "        l = l.split()\n",
    "        feature.append(list(map(float,l)))\n",
    "    score = float(line_y.strip())\n",
    "    return feature,score"
   ]
  },
  {
   "cell_type": "code",
   "execution_count": 4,
   "metadata": {},
   "outputs": [],
   "source": [
    "# 读入验证集\n",
    "path = './2017/en_de/sentence_level/task1_en-de_training-dev/'\n",
    "f_X = open(path+'dev.features','r')\n",
    "f_y = open(path+'dev.hter','r')\n",
    "X_dev,y_dev = [],[]\n",
    "for line_X,line_y in zip(f_X,f_y):\n",
    "    feature, score = process_line(line_X,line_y)\n",
    "    X_dev.append(feature)\n",
    "    y_dev.append(score)\n",
    "f_X.close()\n",
    "f_y.close()\n",
    "X_dev = np.array(padding(X_dev))\n",
    "y_dev = np.array(y_dev)"
   ]
  },
  {
   "cell_type": "code",
   "execution_count": 5,
   "metadata": {},
   "outputs": [
    {
     "name": "stdout",
     "output_type": "stream",
     "text": [
      "_________________________________________________________________\n",
      "Layer (type)                 Output Shape              Param #   \n",
      "=================================================================\n",
      "input_1 (InputLayer)         (None, None, 768)         0         \n",
      "_________________________________________________________________\n",
      "bidirectional_1 (Bidirection (None, 256)               919552    \n",
      "_________________________________________________________________\n",
      "dense_1 (Dense)              (None, 1)                 257       \n",
      "=================================================================\n",
      "Total params: 919,809\n",
      "Trainable params: 919,809\n",
      "Non-trainable params: 0\n",
      "_________________________________________________________________\n",
      "None\n"
     ]
    }
   ],
   "source": [
    "# 构建模型\n",
    "input_features = Input(shape=(None,768), dtype='float32')\n",
    "hidden = Bidirectional(CuDNNLSTM(128))(input_features)\n",
    "score = Dense(1, activation='sigmoid')(hidden)\n",
    "\n",
    "model = Model(inputs=[input_features], outputs=score)\n",
    "model.compile(loss='mean_squared_error',\n",
    "        optimizer='adam',\n",
    "        metrics=['mean_absolute_error','mean_squared_error'])\n",
    "print(model.summary())"
   ]
  },
  {
   "cell_type": "code",
   "execution_count": 6,
   "metadata": {},
   "outputs": [
    {
     "name": "stdout",
     "output_type": "stream",
     "text": [
      "Epoch 1/6\n",
      "180/179 [==============================] - 242s 1s/step - loss: 0.0372 - mean_absolute_error: 0.1528 - mean_squared_error: 0.0372 - val_loss: 0.0308 - val_mean_absolute_error: 0.1354 - val_mean_squared_error: 0.0308\n",
      "Epoch 2/6\n",
      "180/179 [==============================] - 242s 1s/step - loss: 0.0294 - mean_absolute_error: 0.1330 - mean_squared_error: 0.0294 - val_loss: 0.0286 - val_mean_absolute_error: 0.1238 - val_mean_squared_error: 0.0286\n",
      "Epoch 3/6\n",
      "180/179 [==============================] - 239s 1s/step - loss: 0.0268 - mean_absolute_error: 0.1256 - mean_squared_error: 0.0268 - val_loss: 0.0284 - val_mean_absolute_error: 0.1207 - val_mean_squared_error: 0.0284\n",
      "Epoch 4/6\n",
      "180/179 [==============================] - 242s 1s/step - loss: 0.0246 - mean_absolute_error: 0.1201 - mean_squared_error: 0.0246 - val_loss: 0.0274 - val_mean_absolute_error: 0.1183 - val_mean_squared_error: 0.0274\n",
      "Epoch 5/6\n",
      "180/179 [==============================] - 244s 1s/step - loss: 0.0227 - mean_absolute_error: 0.1154 - mean_squared_error: 0.0227 - val_loss: 0.0280 - val_mean_absolute_error: 0.1189 - val_mean_squared_error: 0.0280\n",
      "Epoch 6/6\n",
      "180/179 [==============================] - 243s 1s/step - loss: 0.0206 - mean_absolute_error: 0.1095 - mean_squared_error: 0.0206 - val_loss: 0.0254 - val_mean_absolute_error: 0.1167 - val_mean_squared_error: 0.0254\n"
     ]
    }
   ],
   "source": [
    "# 准备训练集\n",
    "def data_generator():\n",
    "    # 数据生成器\n",
    "    X,Y = [],[]\n",
    "    while True:\n",
    "        f_X = open(path+'train.features','r')\n",
    "        f_y = open(path+'train.hter.shuffle','r')\n",
    "        for line_X,line_y in zip(f_X,f_y):\n",
    "            feature, score = process_line(line_X,line_y)\n",
    "            X.append(feature)\n",
    "            Y.append(score)\n",
    "            if len(X) == batch_size:\n",
    "                X = np.array(padding(X))\n",
    "                Y = np.array(Y)\n",
    "                yield (X,Y)\n",
    "                X,Y = [],[]\n",
    "        f_X.close()\n",
    "        f_y.close()\n",
    "hist = model.fit_generator(data_generator(),\n",
    "    steps_per_epoch=num_train/batch_size,\n",
    "    validation_data=(X_dev,y_dev),\n",
    "    epochs=6)\n",
    "#model.fit(X_train, y_train,validation_data=(X_test, y_test), \n",
    "                 #epochs=50, batch_size=batch_size, shuffle=True)"
   ]
  },
  {
   "cell_type": "code",
   "execution_count": 7,
   "metadata": {},
   "outputs": [],
   "source": [
    "# 读入测试集\n",
    "test_path = './2017/en_de/sentence_level/task1_en-de_test/'\n",
    "f_X = open(test_path+'test.features','r')\n",
    "f_y = open(test_path+'en-de_task1_test.2017.hter','r')\n",
    "X_test,y_test = [],[]\n",
    "for line_X,line_y in zip(f_X,f_y):\n",
    "    feature, score = process_line(line_X,line_y)\n",
    "    X_test.append(feature)\n",
    "    y_test.append(score)\n",
    "f_X.close()\n",
    "f_y.close()\n",
    "X_test = np.array(padding(X_test))\n",
    "y_test = np.array(y_test)"
   ]
  },
  {
   "cell_type": "code",
   "execution_count": 8,
   "metadata": {},
   "outputs": [
    {
     "name": "stdout",
     "output_type": "stream",
     "text": [
      "Pearson  (0.59347142046142853, 1.2639081032951138e-190)\n",
      "SpearmanrResult(correlation=0.62455740638199653, pvalue=8.8920517252414074e-217)\n",
      "MAE  0.117356501219\n",
      "RMSE  0.1537366126045113\n"
     ]
    }
   ],
   "source": [
    "y_pred = model.predict(X_test)\n",
    "y_ = []\n",
    "for i in y_pred:\n",
    "    y_.append(i[0])\n",
    "print(\"Pearson \",pearsonr(y_test, y_))\n",
    "print(spearmanr(y_test, y_))\n",
    "print(\"MAE \",mean_absolute_error(y_test, y_))\n",
    "print(\"RMSE \",math.sqrt(mean_squared_error(y_test, y_)))"
   ]
  }
 ],
 "metadata": {
  "kernelspec": {
   "display_name": "Python 3",
   "language": "python",
   "name": "python3"
  },
  "language_info": {
   "codemirror_mode": {
    "name": "ipython",
    "version": 3
   },
   "file_extension": ".py",
   "mimetype": "text/x-python",
   "name": "python",
   "nbconvert_exporter": "python",
   "pygments_lexer": "ipython3",
   "version": "3.6.8"
  }
 },
 "nbformat": 4,
 "nbformat_minor": 2
}
