{
 "cells": [
  {
   "cell_type": "code",
   "execution_count": 22,
   "metadata": {},
   "outputs": [],
   "source": [
    "# 数据所在文件夹，需要修改为自己的路径\n",
    "path = './task1_de-en_training-dev_corrected_version/'"
   ]
  },
  {
   "cell_type": "code",
   "execution_count": 15,
   "metadata": {},
   "outputs": [],
   "source": [
    "# 将两个文件合并为标准形式\n",
    "f_src_list = ['train.smt.src','train.nmt.src','dev.smt.src','dev.nmt.src']\n",
    "f_mt_list = ['train.smt.mt','train.nmt.mt','dev.smt.mt','dev.nmt.mt']\n",
    "src = []\n",
    "mt = []\n",
    "for f_src,f_mt in zip(f_src_list,f_mt_list):\n",
    "    fin_src = open(path+f_src,'r')\n",
    "    fin_mt = open(path+f_mt,'r')\n",
    "    fout = open(path+f_src+'.input','a')\n",
    "    for i in fin_src:\n",
    "        line_c = i.strip() + ' ||| ' + fin_mt.readline().strip() + '\\n'\n",
    "        fout.write(line_c)\n",
    "    fin_src.close()\n",
    "    fin_mt.close()\n",
    "    fout.close()"
   ]
  },
  {
   "cell_type": "code",
   "execution_count": 23,
   "metadata": {},
   "outputs": [],
   "source": [
    "# 获取一个数据集中所有句子的长度\n",
    "fin = open(path+'train.src.input','r')\n",
    "lens = []\n",
    "for line in fin:\n",
    "    lens.append(len(line.strip().split()))"
   ]
  },
  {
   "cell_type": "code",
   "execution_count": 21,
   "metadata": {},
   "outputs": [
    {
     "data": {
      "text/plain": [
       "(array([  59., 2432., 5901., 6426., 4839., 2386.,  747.,  170.,   27.,\n",
       "          10.]),\n",
       " array([  0.,  10.,  20.,  30.,  40.,  50.,  60.,  70.,  80.,  90., 100.]),\n",
       " <a list of 10 Patch objects>)"
      ]
     },
     "execution_count": 21,
     "metadata": {},
     "output_type": "execute_result"
    },
    {
     "data": {
      "image/png": "[encoded data removed]",
      "text/plain": [
       "<Figure size 432x288 with 1 Axes>"
      ]
     },
     "metadata": {
      "needs_background": "light"
     },
     "output_type": "display_data"
    }
   ],
   "source": [
    "# 根据数据集中句子的长度画图，横轴是句子长度，纵轴是对应句子长度的句子数，根据图示确定maxlen\n",
    "import matplotlib.pyplot as plt\n",
    "import warnings\n",
    "warnings.filterwarnings('ignore')\n",
    "%matplotlib inline\n",
    "plt.hist(lens,range=(0,100))"
   ]
  },
  {
   "cell_type": "markdown",
   "metadata": {},
   "source": [
    "2017_en-de_train数据集('scr ||| mt')的长度分布，最大长度可以取100+10=110(考虑进行WordPiece后，句子长度会变长)；"
   ]
  },
  {
   "cell_type": "code",
   "execution_count": 27,
   "metadata": {},
   "outputs": [
    {
     "data": {
      "text/plain": [
       "(array([ 580., 4627., 7133., 6101., 4235., 1244.,  618.,  329.,  114.,\n",
       "          11.]),\n",
       " array([  0. ,  11.5,  23. ,  34.5,  46. ,  57.5,  69. ,  80.5,  92. ,\n",
       "        103.5, 115. ]),\n",
       " <a list of 10 Patch objects>)"
      ]
     },
     "execution_count": 27,
     "metadata": {},
     "output_type": "execute_result"
    },
    {
     "data": {
      "image/png": "[encoded data removed]",
      "text/plain": [
       "<Figure size 432x288 with 1 Axes>"
      ]
     },
     "metadata": {
      "needs_background": "light"
     },
     "output_type": "display_data"
    }
   ],
   "source": [
    "import matplotlib.pyplot as plt\n",
    "import warnings\n",
    "warnings.filterwarnings('ignore')\n",
    "%matplotlib inline\n",
    "plt.hist(lens,range=(0,115))"
   ]
  },
  {
   "cell_type": "markdown",
   "metadata": {
    "collapsed": true
   },
   "source": [
    "2017_de-en_train数据集('scr ||| mt')的长度分布，最大长度可以取110+10=120(考虑进行WordPiece后，句子长度会变长)；"
   ]
  }
 ],
 "metadata": {
  "kernelspec": {
   "display_name": "Python 3",
   "language": "python",
   "name": "python3"
  },
  "language_info": {
   "codemirror_mode": {
    "name": "ipython",
    "version": 3
   },
   "file_extension": ".py",
   "mimetype": "text/x-python",
   "name": "python",
   "nbconvert_exporter": "python",
   "pygments_lexer": "ipython3",
   "version": "3.6.8"
  }
 },
 "nbformat": 4,
 "nbformat_minor": 2
}
